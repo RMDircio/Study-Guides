{
  "nbformat": 4,
  "nbformat_minor": 0,
  "metadata": {
    "colab": {
      "name": "Filled_Out_Unit_4_Sprint_3_Deep_Learning_Study_Guide.ipynb",
      "provenance": [],
      "collapsed_sections": [],
      "include_colab_link": true
    },
    "kernelspec": {
      "name": "python3",
      "display_name": "Python 3"
    },
    "accelerator": "GPU"
  },
  "cells": [
    {
      "cell_type": "markdown",
      "metadata": {
        "id": "view-in-github",
        "colab_type": "text"
      },
      "source": [
        "<a href=\"https://colab.research.google.com/github/RMDircio/Study-Guides/blob/master/Filled_Out_Unit_4_Sprint_3_Deep_Learning_Study_Guide.ipynb\" target=\"_parent\"><img src=\"https://colab.research.google.com/assets/colab-badge.svg\" alt=\"Open In Colab\"/></a>"
      ]
    },
    {
      "cell_type": "markdown",
      "metadata": {
        "id": "enodNfbMIxzN",
        "colab_type": "text"
      },
      "source": [
        "This study guide should reinforce and provide practice for all of the concepts you have seen in the past week. There are a mix of written questions and coding exercises, both are equally important to prepare you for the sprint challenge as well as to be able to speak on these topics comfortably in interviews and on the job.\n",
        "\n",
        "If you get stuck or are unsure of something remember the 20 minute rule. If that doesn't help, then research a solution with google and stackoverflow. Only once you have exausted these methods should you turn to your Team Lead - they won't be there on your SC or during an interview. That being said, don't hesitate to ask for help if you truly are stuck.\n",
        "\n",
        "Have fun studying!"
      ]
    },
    {
      "cell_type": "markdown",
      "metadata": {
        "id": "nvKGmIjuneEd",
        "colab_type": "text"
      },
      "source": [
        "# Deep Learning Architectures"
      ]
    },
    {
      "cell_type": "markdown",
      "metadata": {
        "id": "DBeXaA-Dnjdk",
        "colab_type": "text"
      },
      "source": [
        "## Definitions"
      ]
    },
    {
      "cell_type": "markdown",
      "metadata": {
        "id": "tsaLULTSnmVm",
        "colab_type": "text"
      },
      "source": [
        "Define the following terms in your own words, do not simply copy and paste a definition found elsewhere but reword it to be understandable and memorable to you. *Double click the markdown to add your definitions.*"
      ]
    },
    {
      "cell_type": "markdown",
      "metadata": {
        "id": "w5XSEpWv0BD-",
        "colab_type": "text"
      },
      "source": [
        "Links I found useful\n",
        "\n",
        "\n",
        "*   [Standford-Recurrent Neural Network](https://stanford.edu/~shervine/teaching/cs-230/cheatsheet-recurrent-neural-networks)\n",
        "*   [Towards Data Science- RNN](https://towardsdatascience.com/understanding-rnn-and-lstm-f7cdf6dfc14e) \n",
        "*   [Wiki - Convolution](https://en.wikipedia.org/wiki/Convolution)\n",
        "*   [Medium - Convolution](https://medium.com/@bdhuma/6-basic-things-to-know-about-convolution-daef5e1bc411)\n",
        "\n",
        "\n"
      ]
    },
    {
      "cell_type": "markdown",
      "metadata": {
        "id": "xrzQTLwk04Xh",
        "colab_type": "text"
      },
      "source": [
        "## Recurrent Neural Networks\n",
        "![image](https://gblobscdn.gitbook.com/assets%2F-LvBP1svpACTB1R1x_U4%2F-LwEQnQw8wHRB6_2zYtG%2F-LwEZT8zd07mLDuaQZwy%2Fimage.png?alt=media&token=93a3c3e2-e32b-4fec-baf5-5e6b092920c4)\n",
        "![Image](https://developer.ibm.com/developer/articles/cc-cognitive-recurrent-neural-networks/images/figure1.png)\n",
        "![image](https://stanford.edu/~shervine/teaching/cs-230/illustrations/architecture-rnn-ltr.png?9ea4417fc145b9346a3e288801dbdfdc)\n",
        "\n",
        "\n",
        "*   all the inputs are related to each other\n",
        "*   allow previous outputs to be used as inputs\n",
        "*   have hidden layers\n",
        "*   remembers context while training <br>\n",
        "<br>Advantages:\n",
        "*   can model sequence of data so that each sample can be assumed to be dependent on previous ones\n",
        "*   used with convolutional layers to extend the effective pixel neighbourhood\n",
        "*   Model size not increasing with size of input\n",
        "*   Weights are shared across time <br>\n",
        "<br>Disadavtages:\n",
        "*   Computation being slow\n",
        "*   Difficulty of accessing information from a long time ago\n",
        "*   Cannot consider any future input for the current state\n",
        "*   Gradient vanishing and exploding problems\n",
        "*   very difficult task\n",
        "*   cannot process very long sequences if using tanh or relu as an activation function.<br>\n",
        "<br>Uses:\n",
        "*   One to One = Traditional NN\n",
        "*   One to Many = Music generation\n",
        "*   Many to One = Sentiment Classification\n",
        "*   Many to Many = Name Etity Recognition\n",
        "*   Many to Many(not equal) = Machine Translation \n",
        "\n",
        "\n",
        "\n",
        "\n",
        "\n",
        "\n",
        "\n",
        "\n",
        "\n",
        "\n"
      ]
    },
    {
      "cell_type": "markdown",
      "metadata": {
        "id": "oz2AxsEP5j5r",
        "colab_type": "text"
      },
      "source": [
        "## Long Short Term Memory\n",
        "\n",
        "![Image](https://miro.medium.com/max/700/1*MwU5yk8f9d6IcLybvGgNxA.jpeg)\n",
        "\n",
        "\n",
        "\n",
        "\n",
        "*   modified version of recurrent neural networks\n",
        "*   remember past data in memory\n",
        "*   vanishing gradient problem of RNN is resolved here\n",
        "*   well-suited to classify, process and predict time series\n",
        "*   trains the model by using back-propagation\n",
        "*   uses 3 gates to process\n",
        "   * 1. Input gate\n",
        "       * which value from input should be used to\n",
        "       * Sigmoid function decides which values to let through\n",
        "       * tanh function gives weightage to the values which are passed deciding their level of importance\n",
        "   * 2. Forget Gate\n",
        "       * what details to be discarded from the block\n",
        "       * decided by the sigmoid function\n",
        "       * looks at the previous state and the content input\n",
        "       * outputs a number between 0(omit this)and 1(keep this)\n",
        "   * 3. Output Gate\n",
        "       * input and the memory of the block is used to decide the output\n",
        "       * Sigmoid function decides which values to let through\n",
        "       * tanh function gives weightage to the values which are passed deciding their level of importance and multiplied with output of Sigmoid.\n",
        "\n",
        "\n"
      ]
    },
    {
      "cell_type": "markdown",
      "metadata": {
        "id": "7T_cDvEsHO95",
        "colab_type": "text"
      },
      "source": [
        "## Convolution\n",
        "![Image](https://miro.medium.com/max/464/0*e-SMFTzO8r7skkpc)\n",
        "*   mathematical\n",
        "    * operation on two functions \n",
        "    * produces a third function\n",
        "    * shape of one is modified by the other\n",
        "* image processing\n",
        "    * transforming an image by applying a kernel over each\n",
        "       * pixel\n",
        "       * and local neighbors across the entire image\n",
        "    * kernel is a matrix of values whose size and values determine the transformation effect\n",
        "    * output of the convolution process changes with the changing kernel values\n",
        "    * Done in steps\n",
        "    * Identity Matrix = no effect\n",
        "        * 1. Kernel Matrix over each pixel of the image, multiplies each value of the Kernel with the corresponding pixel it is over\n",
        "        * 2. sums the resulting multiplied values and returns the resulting value as the new value of the center pixel\n",
        "        * 3. repeated across the entire image\n",
        "\n",
        "\n",
        "\n",
        "\n",
        "\n"
      ]
    },
    {
      "cell_type": "markdown",
      "metadata": {
        "id": "Cn_goD_TM0ej",
        "colab_type": "text"
      },
      "source": [
        "## Convolutional Neural Network\n",
        "![image](https://i0.wp.com/vinodsblog.com/wp-content/uploads/2018/10/CNN-2.png?resize=1300%2C479&ssl=1)\n",
        "\n",
        "*   type of Deep Neural Network\n",
        "* very good at feature matching in images and object classification\n",
        "\n",
        "*   comprises of:\n",
        "    * Convolutional Layer\n",
        "      * convolution on to its inputs using a Kernel Matrix that it calibrates through training\n",
        "      * parameters consist of a set of learnable kernels\n",
        "    * Pooling Layer\n",
        "    * Fully-Connected Layer\n",
        "\n"
      ]
    },
    {
      "cell_type": "markdown",
      "metadata": {
        "id": "xnZfttoInsIb",
        "colab_type": "text"
      },
      "source": [
        "~**Recurrent Neural Network:** `Your Answer Here`~\n",
        "\n",
        "~**Long Short Term Memory:** `Your Answer Here`~\n",
        "\n",
        "~**Convolution:** `Your Answer Here`~\n",
        "\n",
        "**Convolutional Neural Network:** `Your Answer Here`\n",
        "\n",
        "**Transfer Learning:** `Your Answer Here`\n",
        "\n",
        "**Autoencoder:** `Your Answer Here`\n",
        "\n",
        "**Generative Adversarial Network:** `Your Answer Here`"
      ]
    },
    {
      "cell_type": "markdown",
      "metadata": {
        "id": "2rtdfOjas4AJ",
        "colab_type": "text"
      },
      "source": [
        "# Questions of Understanding"
      ]
    },
    {
      "cell_type": "markdown",
      "metadata": {
        "id": "1cSX9IQ5s6ku",
        "colab_type": "text"
      },
      "source": [
        "1. What is the \"deep\" in Deep Learning refer to?\n",
        "```\n",
        "Your Answer Here\n",
        "```\n",
        "\n",
        "2. Name at least two types of problems that RNN's/LSTM's are good for. Why are RNN's particularly suited for these problems?\n",
        "```\n",
        "Your Answer Here\n",
        "```\n",
        "\n",
        "3. What weakness in RNN's does an LSTM help to address?\n",
        "```\n",
        "Your Answer Here\n",
        "```\n",
        "\n",
        "4. Name at least two types of problems that CNN's are good for. Why are CNN's particularly suited for these problems?\n",
        "```\n",
        "Your Answer Here\n",
        "```\n",
        "\n",
        "5. What are the advantages of transfer learning?\n",
        "```\n",
        "Your Answer Here\n",
        "```\n",
        "\n",
        "6. Name at least two types of problems that autoencoders are good for. Why are autoencoders particularly suited for these problems?\n",
        "```\n",
        "Your Answer Here\n",
        "```"
      ]
    },
    {
      "cell_type": "markdown",
      "metadata": {
        "id": "dPzD9SMUzqR2",
        "colab_type": "text"
      },
      "source": [
        "## Practice Problems"
      ]
    },
    {
      "cell_type": "markdown",
      "metadata": {
        "id": "uXtmktahzszZ",
        "colab_type": "text"
      },
      "source": [
        "### RNN's"
      ]
    },
    {
      "cell_type": "markdown",
      "metadata": {
        "id": "O6PDp1ad1-Ep",
        "colab_type": "text"
      },
      "source": [
        "Run the code below to create a dummy dataset. Then build a Neural Network in Keras using at least one LSTM layer."
      ]
    },
    {
      "cell_type": "code",
      "metadata": {
        "id": "hfYSiiVOmDWc",
        "colab_type": "code",
        "colab": {}
      },
      "source": [
        "# Starter code for dummy data\n",
        "from numpy import array\n",
        " \n",
        "def split_sequence(sequence, n_steps):\n",
        "\tX, y = list(), list()\n",
        "\tfor i in range(len(sequence)):\n",
        "\t\tend_ix = i + n_steps\n",
        "\t\tif end_ix > len(sequence)-1:\n",
        "\t\t\tbreak\n",
        "\t\tseq_x, seq_y = sequence[i:end_ix], sequence[end_ix]\n",
        "\t\tX.append(seq_x)\n",
        "\t\ty.append(seq_y)\n",
        "\treturn array(X), array(y)\n",
        " \n",
        "raw_seq = [10, 20, 30, 40, 50, 60, 70, 80, 90, 100, 110, 120]\n",
        "X, y = split_sequence(raw_seq, 3)\n",
        "n_features = 1\n",
        "X = X.reshape((X.shape[0], X.shape[1], n_features))"
      ],
      "execution_count": null,
      "outputs": []
    },
    {
      "cell_type": "code",
      "metadata": {
        "id": "d3B4-0iyzmUf",
        "colab_type": "code",
        "colab": {}
      },
      "source": [
        "# define model\n",
        "\n",
        "\n",
        "# fit model\n"
      ],
      "execution_count": null,
      "outputs": []
    },
    {
      "cell_type": "markdown",
      "metadata": {
        "id": "xZo2kgFq0GxI",
        "colab_type": "text"
      },
      "source": [
        "Once you have trained your model, run the code below to test it. The predicted output should be near `130` and the rounded output should be exactly `130`. We can round our prediction because we know our sequence only deals in increments of 10, with real data this would be a bad idea."
      ]
    },
    {
      "cell_type": "code",
      "metadata": {
        "id": "EM7qFhDOx8Hg",
        "colab_type": "code",
        "colab": {
          "base_uri": "https://localhost:8080/",
          "height": 53
        },
        "outputId": "6c2e98d2-a180-4230-9a98-bb2874ba1606"
      },
      "source": [
        "# demonstrate prediction\n",
        "x_input = array([100, 110, 120])\n",
        "x_input = x_input.reshape((1, n_steps, n_features))\n",
        "yhat = model.predict(x_input, verbose=0)[0][0]\n",
        "\n",
        "print('Prediction:', yhat)\n",
        "print('Rounded to Nearest 10:', int((10 * round(yhat/10))))"
      ],
      "execution_count": null,
      "outputs": [
        {
          "output_type": "stream",
          "text": [
            "Prediction: 132.06418\n",
            "Rounded to Nearest 10: 130\n"
          ],
          "name": "stdout"
        }
      ]
    },
    {
      "cell_type": "markdown",
      "metadata": {
        "id": "pcTffzWm2xFj",
        "colab_type": "text"
      },
      "source": [
        "### CNN's"
      ]
    },
    {
      "cell_type": "markdown",
      "metadata": {
        "id": "xhUwcHtI4beu",
        "colab_type": "text"
      },
      "source": [
        "[Jian-Yang](https://www.youtube.com/watch?v=ACmydtFDTGs) from Silicon Valley might be on to the next billion dollar company. Beat him to market by creating your own hotdog detector using a pretrained model from TensorFlow Hub. You should be able to feed your model an image final output should be either \"Hotdog\" or \"Not hotdog\"."
      ]
    },
    {
      "cell_type": "code",
      "metadata": {
        "id": "10TSJxDl06B1",
        "colab_type": "code",
        "colab": {}
      },
      "source": [
        ""
      ],
      "execution_count": null,
      "outputs": []
    },
    {
      "cell_type": "markdown",
      "metadata": {
        "id": "HQ25yIiz5WEU",
        "colab_type": "text"
      },
      "source": [
        "Once complete, test out your model with random hotdog and non-hotdog related images."
      ]
    },
    {
      "cell_type": "code",
      "metadata": {
        "id": "MB4UqarA5VeI",
        "colab_type": "code",
        "colab": {}
      },
      "source": [
        ""
      ],
      "execution_count": null,
      "outputs": []
    },
    {
      "cell_type": "markdown",
      "metadata": {
        "id": "n2VrTjGdWkJS",
        "colab_type": "text"
      },
      "source": [
        "# Artificial Intelligence"
      ]
    },
    {
      "cell_type": "markdown",
      "metadata": {
        "id": "93x_dWAaWnkS",
        "colab_type": "text"
      },
      "source": [
        "1. What is General Artificial Intelligence?\n",
        "```\n",
        "Your Answer Here\n",
        "```\n",
        "\n",
        "2. Is General Artificial Intelligence possible? Why or Why not?\n",
        "```\n",
        "Your Answer Here\n",
        "```\n",
        "\n",
        "3. As data science improves, what positive and negative impacts do you think it will have on our society?\n",
        "```\n",
        "Your Answer Here\n",
        "```\n",
        "\n",
        "4. What are the benefits and dangers of pursuing AI? Does the good outweigh the bad?\n",
        "```\n",
        "Your Answer Here\n",
        "```\n",
        "\n",
        "5. The world is unlikely to stop pursuing the goal of thinking machines, so what steps/precautions can we take to approach the challenge in a safe and ethical way?\n",
        "```\n",
        "Your Answer Here\n",
        "```\n",
        "\n",
        "6. Automation is now getting to the point of impacting fields that have been traditionally safe from such concerns such as transportation, machine learning, and healthcare. What impact do you think this will have on these professions? Will these jobs simply shift to accomodate the automation or will the automation eliminate the jobs?\n",
        "```\n",
        "Your Answer Here\n",
        "```"
      ]
    },
    {
      "cell_type": "markdown",
      "metadata": {
        "id": "TZAlI0A36_OT",
        "colab_type": "text"
      },
      "source": [
        "## Practice Problem"
      ]
    },
    {
      "cell_type": "markdown",
      "metadata": {
        "id": "2QSA_BC76aP0",
        "colab_type": "text"
      },
      "source": [
        "Try using AutoML on the dataset below. It's great if you can get it working but don't spend too much time struggling with it. If you get stuck, move on to the next question."
      ]
    },
    {
      "cell_type": "code",
      "metadata": {
        "id": "ew7GT97X66qD",
        "colab_type": "code",
        "colab": {}
      },
      "source": [
        "data_url = 'https://github.com/bundickm/Study-Guides/blob/master/data/hearts.csv'"
      ],
      "execution_count": null,
      "outputs": []
    },
    {
      "cell_type": "code",
      "metadata": {
        "id": "Ei9YWRPv6-OU",
        "colab_type": "code",
        "colab": {}
      },
      "source": [
        ""
      ],
      "execution_count": null,
      "outputs": []
    },
    {
      "cell_type": "markdown",
      "metadata": {
        "id": "_bjhojqi7D7E",
        "colab_type": "text"
      },
      "source": [
        "What are some of the uses and limitations of AutoML and other similar tools?\n",
        "```\n",
        "Your Answer Here\n",
        "```"
      ]
    }
  ]
}