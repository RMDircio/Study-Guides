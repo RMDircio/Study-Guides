{
  "nbformat": 4,
  "nbformat_minor": 0,
  "metadata": {
    "colab": {
      "name": "filled_out-2_Neural_Networks_Study_Guide.ipynb",
      "provenance": [],
      "collapsed_sections": [],
      "include_colab_link": true
    },
    "kernelspec": {
      "name": "python3",
      "display_name": "Python 3"
    }
  },
  "cells": [
    {
      "cell_type": "markdown",
      "metadata": {
        "id": "view-in-github",
        "colab_type": "text"
      },
      "source": [
        "<a href=\"https://colab.research.google.com/github/RMDircio/Study-Guides/blob/master/filled_out_2_Neural_Networks_Study_Guide.ipynb\" target=\"_parent\"><img src=\"https://colab.research.google.com/assets/colab-badge.svg\" alt=\"Open In Colab\"/></a>"
      ]
    },
    {
      "cell_type": "markdown",
      "metadata": {
        "id": "FVwDfNcdqlbZ",
        "colab_type": "text"
      },
      "source": [
        "This study guide should reinforce and provide practice for all of the concepts you have seen in the past week. There are a mix of written questions and coding exercises, both are equally important to prepare you for the sprint challenge as well as to be able to speak on these topics comfortably in interviews and on the job.\n",
        "\n",
        "If you get stuck or are unsure of something remember the 20 minute rule. If that doesn't help, then research a solution with google and stackoverflow. Only once you have exausted these methods should you turn to your Team Lead - they won't be there on your SC or during an interview. That being said, don't hesitate to ask for help if you truly are stuck.\n",
        "\n",
        "Have fun studying!"
      ]
    },
    {
      "cell_type": "markdown",
      "metadata": {
        "id": "zHl_qn9TpggG",
        "colab_type": "text"
      },
      "source": [
        "# Neural Networks by Hand"
      ]
    },
    {
      "cell_type": "markdown",
      "metadata": {
        "id": "F3LTw7Csr53V",
        "colab_type": "text"
      },
      "source": [
        "## Definitions"
      ]
    },
    {
      "cell_type": "markdown",
      "metadata": {
        "id": "ssxAniIZqxxU",
        "colab_type": "text"
      },
      "source": [
        "Define the following terms in your own words, do not simply copy and paste a definition found elsewhere but reword it to be understandable and memorable to you. *Double click the markdown to add your definitions.*\n",
        "\n",
        "**Input Layer:** `Your Answer Here`\n",
        "\n",
        "**Hidden Layer:** `Your Answer Here`\n",
        "\n",
        "**Output Layer:** `Your Answer Here`\n",
        "\n",
        "**Neuron:** `Your Answer Here`\n",
        "\n",
        "**Weight:** `Your Answer Here`\n",
        "\n",
        "**Bias:** `Your Answer Here`\n",
        "\n",
        "**Activation Function:** `Your Answer Here`\n",
        "\n",
        "**Node Map:** `Your Answer Here`\n",
        "\n",
        "**Perceptron:** `Your Answer Here`\n",
        "\n",
        "**Epoch:** `Your Answer Here`\n",
        "\n",
        "**Feed Forward Neural Network:** `Your Answer Here`\n",
        "\n",
        "**Back Propagation:** `Your Answer Here`"
      ]
    },
    {
      "cell_type": "markdown",
      "metadata": {
        "id": "ZgO6aE9br9N9",
        "colab_type": "text"
      },
      "source": [
        "## Questions of Understanding\n"
      ]
    },
    {
      "cell_type": "markdown",
      "metadata": {
        "id": "SwG5JUtEzMGh",
        "colab_type": "text"
      },
      "source": [
        "1. Name 2 activation functions and when they might be used\n",
        " 1. `Your Answer Here`\n",
        " 2. `Your Answer Here`\n",
        "\n",
        "2. What types of machine learning problems are neural networks best suited for?\n",
        "```\n",
        "Your Answer Here\n",
        "```\n",
        "\n",
        "3. In a linear regression problem, we can attempt to account for nonlinear features with polynomial features. What problem do we encounter as our feature size increases? How does a neural network avoid/address this issue?\n",
        "```\n",
        "Your Answer Here\n",
        "```\n",
        "\n",
        "4. What are some of the tradeoffs of using a neural network versus a traditional machine learning algorithm like linear regression or a decision tree?\n",
        "```\n",
        "Your Answer Here\n",
        "```\n",
        "\n",
        "5. What determines the size of the input layer?\n",
        "```\n",
        "Your Answer Here\n",
        "```"
      ]
    },
    {
      "cell_type": "markdown",
      "metadata": {
        "id": "QiNp8dSK8rcx",
        "colab_type": "text"
      },
      "source": [
        "## Perceptrons"
      ]
    },
    {
      "cell_type": "markdown",
      "metadata": {
        "id": "nDGlUI2A85tS",
        "colab_type": "text"
      },
      "source": [
        "Use the starter code below to build a perceptron, with just numpy, to predict whether a passenger survived or not. You may reduce the number of features for X to fit code you have already worked on throughout the week, but it is recommended that you modify the code instead."
      ]
    },
    {
      "cell_type": "code",
      "metadata": {
        "id": "GkUhPR-HpieB",
        "colab_type": "code",
        "colab": {
          "base_uri": "https://localhost:8080/",
          "height": 237
        },
        "outputId": "3803f491-b82f-420b-9d86-6af128d85476"
      },
      "source": [
        "import pandas as pd\n",
        "import numpy as np\n",
        "\n",
        "df = pd.read_csv('https://raw.githubusercontent.com/bundickm/Study-Guides/master/data/titanic.csv')\n",
        "print('Shape:', df.shape, '\\n')\n",
        "df.head()"
      ],
      "execution_count": null,
      "outputs": [
        {
          "output_type": "stream",
          "text": [
            "Shape: (887, 7) \n",
            "\n"
          ],
          "name": "stdout"
        },
        {
          "output_type": "execute_result",
          "data": {
            "text/html": [
              "<div>\n",
              "<style scoped>\n",
              "    .dataframe tbody tr th:only-of-type {\n",
              "        vertical-align: middle;\n",
              "    }\n",
              "\n",
              "    .dataframe tbody tr th {\n",
              "        vertical-align: top;\n",
              "    }\n",
              "\n",
              "    .dataframe thead th {\n",
              "        text-align: right;\n",
              "    }\n",
              "</style>\n",
              "<table border=\"1\" class=\"dataframe\">\n",
              "  <thead>\n",
              "    <tr style=\"text-align: right;\">\n",
              "      <th></th>\n",
              "      <th>Survived</th>\n",
              "      <th>Pclass</th>\n",
              "      <th>Sex</th>\n",
              "      <th>Age</th>\n",
              "      <th>Siblings/Spouses Aboard</th>\n",
              "      <th>Parents/Children Aboard</th>\n",
              "      <th>Fare</th>\n",
              "    </tr>\n",
              "  </thead>\n",
              "  <tbody>\n",
              "    <tr>\n",
              "      <th>0</th>\n",
              "      <td>0</td>\n",
              "      <td>3</td>\n",
              "      <td>1</td>\n",
              "      <td>22.0</td>\n",
              "      <td>1</td>\n",
              "      <td>0</td>\n",
              "      <td>7.2500</td>\n",
              "    </tr>\n",
              "    <tr>\n",
              "      <th>1</th>\n",
              "      <td>1</td>\n",
              "      <td>1</td>\n",
              "      <td>0</td>\n",
              "      <td>38.0</td>\n",
              "      <td>1</td>\n",
              "      <td>0</td>\n",
              "      <td>71.2833</td>\n",
              "    </tr>\n",
              "    <tr>\n",
              "      <th>2</th>\n",
              "      <td>1</td>\n",
              "      <td>3</td>\n",
              "      <td>0</td>\n",
              "      <td>26.0</td>\n",
              "      <td>0</td>\n",
              "      <td>0</td>\n",
              "      <td>7.9250</td>\n",
              "    </tr>\n",
              "    <tr>\n",
              "      <th>3</th>\n",
              "      <td>1</td>\n",
              "      <td>1</td>\n",
              "      <td>0</td>\n",
              "      <td>35.0</td>\n",
              "      <td>1</td>\n",
              "      <td>0</td>\n",
              "      <td>53.1000</td>\n",
              "    </tr>\n",
              "    <tr>\n",
              "      <th>4</th>\n",
              "      <td>0</td>\n",
              "      <td>3</td>\n",
              "      <td>1</td>\n",
              "      <td>35.0</td>\n",
              "      <td>0</td>\n",
              "      <td>0</td>\n",
              "      <td>8.0500</td>\n",
              "    </tr>\n",
              "  </tbody>\n",
              "</table>\n",
              "</div>"
            ],
            "text/plain": [
              "   Survived  Pclass  ...  Parents/Children Aboard     Fare\n",
              "0         0       3  ...                        0   7.2500\n",
              "1         1       1  ...                        0  71.2833\n",
              "2         1       3  ...                        0   7.9250\n",
              "3         1       1  ...                        0  53.1000\n",
              "4         0       3  ...                        0   8.0500\n",
              "\n",
              "[5 rows x 7 columns]"
            ]
          },
          "metadata": {
            "tags": []
          },
          "execution_count": 5
        }
      ]
    },
    {
      "cell_type": "code",
      "metadata": {
        "id": "95aCFxje_XD5",
        "colab_type": "code",
        "colab": {}
      },
      "source": [
        "X = np.array(df.drop(columns='Survived'))\n",
        "y = df['Survived']"
      ],
      "execution_count": null,
      "outputs": []
    },
    {
      "cell_type": "code",
      "metadata": {
        "id": "SF4eMdamNnTE",
        "colab_type": "code",
        "colab": {}
      },
      "source": [
        "from sklearn.model_selection import train_test_split"
      ],
      "execution_count": null,
      "outputs": []
    },
    {
      "cell_type": "code",
      "metadata": {
        "id": "AQLOf0DHN2GY",
        "colab_type": "code",
        "colab": {}
      },
      "source": [
        "X_train, X_test, y_train, y_test = train_test_split(X, y, test_size=.2, random_state=42)"
      ],
      "execution_count": null,
      "outputs": []
    },
    {
      "cell_type": "code",
      "metadata": {
        "id": "-CLvGPLQOPXP",
        "colab_type": "code",
        "colab": {
          "base_uri": "https://localhost:8080/",
          "height": 35
        },
        "outputId": "296fea42-fc7e-46f2-ff86-e6e733ed4921"
      },
      "source": [
        "X_train.shape, y_train.shape"
      ],
      "execution_count": null,
      "outputs": [
        {
          "output_type": "execute_result",
          "data": {
            "text/plain": [
              "((709, 6), (709,))"
            ]
          },
          "metadata": {
            "tags": []
          },
          "execution_count": 18
        }
      ]
    },
    {
      "cell_type": "code",
      "metadata": {
        "id": "Ii-mHOsGKldJ",
        "colab_type": "code",
        "colab": {
          "base_uri": "https://localhost:8080/",
          "height": 35
        },
        "outputId": "d51c4bec-c400-4c96-e746-2b2c5dd85c6d"
      },
      "source": [
        "X.shape"
      ],
      "execution_count": null,
      "outputs": [
        {
          "output_type": "execute_result",
          "data": {
            "text/plain": [
              "(887, 6)"
            ]
          },
          "metadata": {
            "tags": []
          },
          "execution_count": 9
        }
      ]
    },
    {
      "cell_type": "code",
      "metadata": {
        "colab_type": "code",
        "id": "umUm9VbKHzky",
        "colab": {
          "base_uri": "https://localhost:8080/",
          "height": 69
        },
        "outputId": "8ad5af98-941f-4082-d54d-2a11135ba39b"
      },
      "source": [
        "df['Survived'].value_counts(normalize=True)"
      ],
      "execution_count": null,
      "outputs": [
        {
          "output_type": "execute_result",
          "data": {
            "text/plain": [
              "0    0.614431\n",
              "1    0.385569\n",
              "Name: Survived, dtype: float64"
            ]
          },
          "metadata": {
            "tags": []
          },
          "execution_count": 7
        }
      ]
    },
    {
      "cell_type": "code",
      "metadata": {
        "id": "xnyJ-zDDJisF",
        "colab_type": "code",
        "colab": {}
      },
      "source": [
        "from tensorflow.keras.models import Sequential\n",
        "from tensorflow.keras.layers import Dense, Dropout\n",
        "from tensorflow.keras.callbacks import EarlyStopping"
      ],
      "execution_count": null,
      "outputs": []
    },
    {
      "cell_type": "code",
      "metadata": {
        "id": "QcC2Rg3GKGWv",
        "colab_type": "code",
        "colab": {}
      },
      "source": [
        "model = Sequential()\n",
        "model.add(Dense(1000, input_dim = 6, activation = 'relu'))\n",
        "model.add(Dense(1000, activation='relu'))\n",
        "model.add(Dense(1000, activation='relu'))\n",
        "model.add(Dense(1000, activation='relu'))\n",
        "model.add(Dense(1000, activation='relu'))\n",
        "model.add(Dense(1, activation ='sigmoid'))"
      ],
      "execution_count": null,
      "outputs": []
    },
    {
      "cell_type": "code",
      "metadata": {
        "id": "SmVm9jLYL6Sf",
        "colab_type": "code",
        "colab": {}
      },
      "source": [
        "model.compile(optimizer='adam', loss='binary_crossentropy', metrics=['accuracy'])"
      ],
      "execution_count": null,
      "outputs": []
    },
    {
      "cell_type": "code",
      "metadata": {
        "id": "OylP1DlaNMvL",
        "colab_type": "code",
        "colab": {
          "base_uri": "https://localhost:8080/",
          "height": 364
        },
        "outputId": "b021691a-9649-4af2-f806-2fdb172e5692"
      },
      "source": [
        "model.summary()"
      ],
      "execution_count": null,
      "outputs": [
        {
          "output_type": "stream",
          "text": [
            "Model: \"sequential_5\"\n",
            "_________________________________________________________________\n",
            "Layer (type)                 Output Shape              Param #   \n",
            "=================================================================\n",
            "dense_22 (Dense)             (None, 1000)              7000      \n",
            "_________________________________________________________________\n",
            "dense_23 (Dense)             (None, 1000)              1001000   \n",
            "_________________________________________________________________\n",
            "dense_24 (Dense)             (None, 1000)              1001000   \n",
            "_________________________________________________________________\n",
            "dense_25 (Dense)             (None, 1000)              1001000   \n",
            "_________________________________________________________________\n",
            "dense_26 (Dense)             (None, 1000)              1001000   \n",
            "_________________________________________________________________\n",
            "dense_27 (Dense)             (None, 1)                 1001      \n",
            "=================================================================\n",
            "Total params: 4,012,001\n",
            "Trainable params: 4,012,001\n",
            "Non-trainable params: 0\n",
            "_________________________________________________________________\n"
          ],
          "name": "stdout"
        }
      ]
    },
    {
      "cell_type": "code",
      "metadata": {
        "id": "BdhOmzhQNiR1",
        "colab_type": "code",
        "colab": {
          "base_uri": "https://localhost:8080/",
          "height": 1000
        },
        "outputId": "2ddbf1da-d9da-48ab-caf4-a7fdedc8b384"
      },
      "source": [
        "model.fit(X_train, y_train, epochs=99, validation_data=(X_test, y_test))"
      ],
      "execution_count": null,
      "outputs": [
        {
          "output_type": "stream",
          "text": [
            "Epoch 1/99\n",
            "23/23 [==============================] - 1s 62ms/step - loss: 1.1986 - accuracy: 0.5740 - val_loss: 0.6017 - val_accuracy: 0.6685\n",
            "Epoch 2/99\n",
            "23/23 [==============================] - 1s 59ms/step - loss: 0.6185 - accuracy: 0.6742 - val_loss: 0.6052 - val_accuracy: 0.6236\n",
            "Epoch 3/99\n",
            "23/23 [==============================] - 1s 47ms/step - loss: 0.6096 - accuracy: 0.6770 - val_loss: 0.6272 - val_accuracy: 0.6966\n",
            "Epoch 4/99\n",
            "23/23 [==============================] - 1s 45ms/step - loss: 0.6074 - accuracy: 0.6798 - val_loss: 0.5839 - val_accuracy: 0.6742\n",
            "Epoch 5/99\n",
            "23/23 [==============================] - 1s 46ms/step - loss: 0.6015 - accuracy: 0.6812 - val_loss: 0.5811 - val_accuracy: 0.6798\n",
            "Epoch 6/99\n",
            "23/23 [==============================] - 1s 46ms/step - loss: 0.6076 - accuracy: 0.6812 - val_loss: 0.5775 - val_accuracy: 0.6685\n",
            "Epoch 7/99\n",
            "23/23 [==============================] - 1s 51ms/step - loss: 0.5752 - accuracy: 0.6953 - val_loss: 0.5435 - val_accuracy: 0.6966\n",
            "Epoch 8/99\n",
            "23/23 [==============================] - 1s 60ms/step - loss: 0.5459 - accuracy: 0.7264 - val_loss: 0.5848 - val_accuracy: 0.6966\n",
            "Epoch 9/99\n",
            "23/23 [==============================] - 1s 55ms/step - loss: 0.5497 - accuracy: 0.7320 - val_loss: 0.5956 - val_accuracy: 0.6798\n",
            "Epoch 10/99\n",
            "23/23 [==============================] - 1s 61ms/step - loss: 0.5502 - accuracy: 0.7433 - val_loss: 0.5511 - val_accuracy: 0.7135\n",
            "Epoch 11/99\n",
            "23/23 [==============================] - 1s 49ms/step - loss: 0.5075 - accuracy: 0.7659 - val_loss: 0.5665 - val_accuracy: 0.7360\n",
            "Epoch 12/99\n",
            "23/23 [==============================] - 1s 48ms/step - loss: 0.5150 - accuracy: 0.7898 - val_loss: 0.6007 - val_accuracy: 0.7191\n",
            "Epoch 13/99\n",
            "23/23 [==============================] - 1s 52ms/step - loss: 0.5464 - accuracy: 0.7687 - val_loss: 0.4978 - val_accuracy: 0.7584\n",
            "Epoch 14/99\n",
            "23/23 [==============================] - 1s 61ms/step - loss: 0.4774 - accuracy: 0.8025 - val_loss: 0.5356 - val_accuracy: 0.7079\n",
            "Epoch 15/99\n",
            "23/23 [==============================] - 1s 47ms/step - loss: 0.5195 - accuracy: 0.7616 - val_loss: 0.5218 - val_accuracy: 0.7528\n",
            "Epoch 16/99\n",
            "23/23 [==============================] - 1s 49ms/step - loss: 0.4927 - accuracy: 0.7898 - val_loss: 0.5013 - val_accuracy: 0.7584\n",
            "Epoch 17/99\n",
            "23/23 [==============================] - 1s 47ms/step - loss: 0.4519 - accuracy: 0.8166 - val_loss: 0.4915 - val_accuracy: 0.7528\n",
            "Epoch 18/99\n",
            "23/23 [==============================] - 1s 47ms/step - loss: 0.4919 - accuracy: 0.7969 - val_loss: 0.4980 - val_accuracy: 0.7303\n",
            "Epoch 19/99\n",
            "23/23 [==============================] - 1s 47ms/step - loss: 0.4640 - accuracy: 0.8011 - val_loss: 0.5033 - val_accuracy: 0.7753\n",
            "Epoch 20/99\n",
            "23/23 [==============================] - 1s 47ms/step - loss: 0.4653 - accuracy: 0.8054 - val_loss: 0.5031 - val_accuracy: 0.7753\n",
            "Epoch 21/99\n",
            "23/23 [==============================] - 1s 48ms/step - loss: 0.4532 - accuracy: 0.8011 - val_loss: 0.5055 - val_accuracy: 0.7865\n",
            "Epoch 22/99\n",
            "23/23 [==============================] - 1s 56ms/step - loss: 0.4593 - accuracy: 0.8082 - val_loss: 0.4816 - val_accuracy: 0.7865\n",
            "Epoch 23/99\n",
            "23/23 [==============================] - 1s 49ms/step - loss: 0.4609 - accuracy: 0.8054 - val_loss: 0.5033 - val_accuracy: 0.7809\n",
            "Epoch 24/99\n",
            "23/23 [==============================] - 1s 61ms/step - loss: 0.4451 - accuracy: 0.8096 - val_loss: 0.5248 - val_accuracy: 0.7640\n",
            "Epoch 25/99\n",
            "23/23 [==============================] - 1s 47ms/step - loss: 0.4494 - accuracy: 0.8082 - val_loss: 0.5431 - val_accuracy: 0.7697\n",
            "Epoch 26/99\n",
            "23/23 [==============================] - 1s 45ms/step - loss: 0.4660 - accuracy: 0.8068 - val_loss: 0.4825 - val_accuracy: 0.7697\n",
            "Epoch 27/99\n",
            "23/23 [==============================] - 1s 48ms/step - loss: 0.4440 - accuracy: 0.8054 - val_loss: 0.5367 - val_accuracy: 0.7809\n",
            "Epoch 28/99\n",
            "23/23 [==============================] - 1s 59ms/step - loss: 0.4397 - accuracy: 0.8166 - val_loss: 0.5101 - val_accuracy: 0.7697\n",
            "Epoch 29/99\n",
            "23/23 [==============================] - 1s 57ms/step - loss: 0.4282 - accuracy: 0.8152 - val_loss: 0.5397 - val_accuracy: 0.7753\n",
            "Epoch 30/99\n",
            "23/23 [==============================] - 1s 58ms/step - loss: 0.4252 - accuracy: 0.8181 - val_loss: 0.5367 - val_accuracy: 0.7191\n",
            "Epoch 31/99\n",
            "23/23 [==============================] - 1s 60ms/step - loss: 0.4453 - accuracy: 0.8082 - val_loss: 0.4997 - val_accuracy: 0.7753\n",
            "Epoch 32/99\n",
            "23/23 [==============================] - 1s 58ms/step - loss: 0.4209 - accuracy: 0.8209 - val_loss: 0.5387 - val_accuracy: 0.7753\n",
            "Epoch 33/99\n",
            "23/23 [==============================] - 1s 45ms/step - loss: 0.4187 - accuracy: 0.8307 - val_loss: 0.5033 - val_accuracy: 0.7640\n",
            "Epoch 34/99\n",
            "23/23 [==============================] - 1s 50ms/step - loss: 0.4051 - accuracy: 0.8265 - val_loss: 0.5226 - val_accuracy: 0.7809\n",
            "Epoch 35/99\n",
            "23/23 [==============================] - 1s 58ms/step - loss: 0.4041 - accuracy: 0.8307 - val_loss: 0.5437 - val_accuracy: 0.7753\n",
            "Epoch 36/99\n",
            "23/23 [==============================] - 1s 48ms/step - loss: 0.3987 - accuracy: 0.8336 - val_loss: 0.5795 - val_accuracy: 0.7416\n",
            "Epoch 37/99\n",
            "23/23 [==============================] - 1s 58ms/step - loss: 0.4157 - accuracy: 0.8209 - val_loss: 0.5226 - val_accuracy: 0.7809\n",
            "Epoch 38/99\n",
            "23/23 [==============================] - 1s 60ms/step - loss: 0.4065 - accuracy: 0.8279 - val_loss: 0.5641 - val_accuracy: 0.7809\n",
            "Epoch 39/99\n",
            "23/23 [==============================] - 1s 60ms/step - loss: 0.4367 - accuracy: 0.8209 - val_loss: 0.5495 - val_accuracy: 0.7191\n",
            "Epoch 40/99\n",
            "23/23 [==============================] - 1s 60ms/step - loss: 0.4278 - accuracy: 0.8209 - val_loss: 0.5804 - val_accuracy: 0.7697\n",
            "Epoch 41/99\n",
            "23/23 [==============================] - 1s 57ms/step - loss: 0.4267 - accuracy: 0.8251 - val_loss: 0.6349 - val_accuracy: 0.7584\n",
            "Epoch 42/99\n",
            "23/23 [==============================] - 1s 48ms/step - loss: 0.4606 - accuracy: 0.8181 - val_loss: 0.5490 - val_accuracy: 0.7865\n",
            "Epoch 43/99\n",
            "23/23 [==============================] - 1s 61ms/step - loss: 0.4078 - accuracy: 0.8223 - val_loss: 0.5884 - val_accuracy: 0.7753\n",
            "Epoch 44/99\n",
            "23/23 [==============================] - 1s 58ms/step - loss: 0.3897 - accuracy: 0.8364 - val_loss: 0.6452 - val_accuracy: 0.7809\n",
            "Epoch 45/99\n",
            "23/23 [==============================] - 1s 47ms/step - loss: 0.3927 - accuracy: 0.8406 - val_loss: 0.5875 - val_accuracy: 0.7865\n",
            "Epoch 46/99\n",
            "23/23 [==============================] - 1s 52ms/step - loss: 0.4024 - accuracy: 0.8392 - val_loss: 0.5765 - val_accuracy: 0.7809\n",
            "Epoch 47/99\n",
            "23/23 [==============================] - 1s 58ms/step - loss: 0.4002 - accuracy: 0.8336 - val_loss: 0.6142 - val_accuracy: 0.7865\n",
            "Epoch 48/99\n",
            "23/23 [==============================] - 1s 56ms/step - loss: 0.3888 - accuracy: 0.8378 - val_loss: 0.6408 - val_accuracy: 0.7753\n",
            "Epoch 49/99\n",
            "23/23 [==============================] - 1s 49ms/step - loss: 0.3968 - accuracy: 0.8406 - val_loss: 0.6298 - val_accuracy: 0.7865\n",
            "Epoch 50/99\n",
            "23/23 [==============================] - 1s 51ms/step - loss: 0.3808 - accuracy: 0.8434 - val_loss: 0.6484 - val_accuracy: 0.7865\n",
            "Epoch 51/99\n",
            "23/23 [==============================] - 1s 55ms/step - loss: 0.4152 - accuracy: 0.8279 - val_loss: 0.6923 - val_accuracy: 0.7584\n",
            "Epoch 52/99\n",
            "23/23 [==============================] - 1s 46ms/step - loss: 0.3954 - accuracy: 0.8505 - val_loss: 0.6691 - val_accuracy: 0.7809\n",
            "Epoch 53/99\n",
            "23/23 [==============================] - 1s 46ms/step - loss: 0.4001 - accuracy: 0.8420 - val_loss: 0.5802 - val_accuracy: 0.7528\n",
            "Epoch 54/99\n",
            "23/23 [==============================] - 1s 48ms/step - loss: 0.4047 - accuracy: 0.8237 - val_loss: 0.5528 - val_accuracy: 0.7753\n",
            "Epoch 55/99\n",
            "23/23 [==============================] - 1s 60ms/step - loss: 0.4036 - accuracy: 0.8336 - val_loss: 0.5528 - val_accuracy: 0.7697\n",
            "Epoch 56/99\n",
            "23/23 [==============================] - 1s 59ms/step - loss: 0.3890 - accuracy: 0.8279 - val_loss: 0.5505 - val_accuracy: 0.7753\n",
            "Epoch 57/99\n",
            "23/23 [==============================] - 1s 57ms/step - loss: 0.4102 - accuracy: 0.8449 - val_loss: 0.5509 - val_accuracy: 0.7865\n",
            "Epoch 58/99\n",
            "23/23 [==============================] - 1s 59ms/step - loss: 0.3949 - accuracy: 0.8406 - val_loss: 0.5826 - val_accuracy: 0.7697\n",
            "Epoch 59/99\n",
            "23/23 [==============================] - 1s 58ms/step - loss: 0.3833 - accuracy: 0.8336 - val_loss: 0.6349 - val_accuracy: 0.7865\n",
            "Epoch 60/99\n",
            "23/23 [==============================] - 1s 57ms/step - loss: 0.4135 - accuracy: 0.8350 - val_loss: 0.6311 - val_accuracy: 0.7416\n",
            "Epoch 61/99\n",
            "23/23 [==============================] - 1s 58ms/step - loss: 0.3907 - accuracy: 0.8420 - val_loss: 0.6796 - val_accuracy: 0.7753\n",
            "Epoch 62/99\n",
            "23/23 [==============================] - 1s 53ms/step - loss: 0.3845 - accuracy: 0.8350 - val_loss: 0.6541 - val_accuracy: 0.7809\n",
            "Epoch 63/99\n",
            "23/23 [==============================] - 1s 55ms/step - loss: 0.3837 - accuracy: 0.8392 - val_loss: 0.5827 - val_accuracy: 0.7921\n",
            "Epoch 64/99\n",
            "23/23 [==============================] - 1s 47ms/step - loss: 0.4088 - accuracy: 0.8336 - val_loss: 0.5936 - val_accuracy: 0.7865\n",
            "Epoch 65/99\n",
            "23/23 [==============================] - 1s 60ms/step - loss: 0.3765 - accuracy: 0.8434 - val_loss: 0.6481 - val_accuracy: 0.7921\n",
            "Epoch 66/99\n",
            "23/23 [==============================] - 1s 52ms/step - loss: 0.3898 - accuracy: 0.8463 - val_loss: 0.6374 - val_accuracy: 0.7753\n",
            "Epoch 67/99\n",
            "23/23 [==============================] - 1s 56ms/step - loss: 0.3848 - accuracy: 0.8434 - val_loss: 0.6778 - val_accuracy: 0.7865\n",
            "Epoch 68/99\n",
            "23/23 [==============================] - 1s 47ms/step - loss: 0.3766 - accuracy: 0.8477 - val_loss: 0.6320 - val_accuracy: 0.7697\n",
            "Epoch 69/99\n",
            "23/23 [==============================] - 1s 61ms/step - loss: 0.3800 - accuracy: 0.8491 - val_loss: 0.6242 - val_accuracy: 0.7865\n",
            "Epoch 70/99\n",
            "23/23 [==============================] - 1s 64ms/step - loss: 0.3921 - accuracy: 0.8364 - val_loss: 0.6686 - val_accuracy: 0.7921\n",
            "Epoch 71/99\n",
            "23/23 [==============================] - 1s 57ms/step - loss: 0.3690 - accuracy: 0.8449 - val_loss: 0.7135 - val_accuracy: 0.7584\n",
            "Epoch 72/99\n",
            "23/23 [==============================] - 1s 47ms/step - loss: 0.3638 - accuracy: 0.8533 - val_loss: 0.9853 - val_accuracy: 0.7809\n",
            "Epoch 73/99\n",
            "23/23 [==============================] - 1s 56ms/step - loss: 0.4859 - accuracy: 0.7941 - val_loss: 0.5933 - val_accuracy: 0.7584\n",
            "Epoch 74/99\n",
            "23/23 [==============================] - 1s 47ms/step - loss: 0.4562 - accuracy: 0.7983 - val_loss: 0.6088 - val_accuracy: 0.7697\n",
            "Epoch 75/99\n",
            "23/23 [==============================] - 1s 48ms/step - loss: 0.4612 - accuracy: 0.8279 - val_loss: 0.5179 - val_accuracy: 0.7697\n",
            "Epoch 76/99\n",
            "23/23 [==============================] - 1s 53ms/step - loss: 0.3968 - accuracy: 0.8350 - val_loss: 0.6408 - val_accuracy: 0.7697\n",
            "Epoch 77/99\n",
            "23/23 [==============================] - 1s 51ms/step - loss: 0.3962 - accuracy: 0.8265 - val_loss: 0.7136 - val_accuracy: 0.7753\n",
            "Epoch 78/99\n",
            "23/23 [==============================] - 1s 61ms/step - loss: 0.3897 - accuracy: 0.8392 - val_loss: 0.7438 - val_accuracy: 0.7921\n",
            "Epoch 79/99\n",
            "23/23 [==============================] - 1s 56ms/step - loss: 0.3743 - accuracy: 0.8434 - val_loss: 0.8067 - val_accuracy: 0.7921\n",
            "Epoch 80/99\n",
            "23/23 [==============================] - 1s 55ms/step - loss: 0.3884 - accuracy: 0.8336 - val_loss: 0.8003 - val_accuracy: 0.7697\n",
            "Epoch 81/99\n",
            "23/23 [==============================] - 1s 59ms/step - loss: 0.3922 - accuracy: 0.8336 - val_loss: 0.7304 - val_accuracy: 0.7921\n",
            "Epoch 82/99\n",
            "23/23 [==============================] - 1s 61ms/step - loss: 0.3871 - accuracy: 0.8434 - val_loss: 0.7905 - val_accuracy: 0.7697\n",
            "Epoch 83/99\n",
            "23/23 [==============================] - 1s 50ms/step - loss: 0.3813 - accuracy: 0.8350 - val_loss: 0.8157 - val_accuracy: 0.7921\n",
            "Epoch 84/99\n",
            "23/23 [==============================] - 1s 61ms/step - loss: 0.3593 - accuracy: 0.8491 - val_loss: 0.9112 - val_accuracy: 0.7753\n",
            "Epoch 85/99\n",
            "23/23 [==============================] - 1s 61ms/step - loss: 0.3675 - accuracy: 0.8449 - val_loss: 0.7807 - val_accuracy: 0.7809\n",
            "Epoch 86/99\n",
            "23/23 [==============================] - 1s 58ms/step - loss: 0.4602 - accuracy: 0.7969 - val_loss: 0.7323 - val_accuracy: 0.7809\n",
            "Epoch 87/99\n",
            "23/23 [==============================] - 1s 53ms/step - loss: 0.4262 - accuracy: 0.8096 - val_loss: 0.7497 - val_accuracy: 0.7753\n",
            "Epoch 88/99\n",
            "23/23 [==============================] - 1s 62ms/step - loss: 0.4115 - accuracy: 0.8307 - val_loss: 0.7388 - val_accuracy: 0.7753\n",
            "Epoch 89/99\n",
            "23/23 [==============================] - 1s 64ms/step - loss: 0.3960 - accuracy: 0.8322 - val_loss: 0.7658 - val_accuracy: 0.7809\n",
            "Epoch 90/99\n",
            "23/23 [==============================] - 1s 63ms/step - loss: 0.3851 - accuracy: 0.8420 - val_loss: 0.7638 - val_accuracy: 0.7865\n",
            "Epoch 91/99\n",
            "23/23 [==============================] - 1s 63ms/step - loss: 0.3785 - accuracy: 0.8434 - val_loss: 0.8704 - val_accuracy: 0.7921\n",
            "Epoch 92/99\n",
            "23/23 [==============================] - 1s 64ms/step - loss: 0.4246 - accuracy: 0.8237 - val_loss: 0.8583 - val_accuracy: 0.7921\n",
            "Epoch 93/99\n",
            "23/23 [==============================] - 1s 52ms/step - loss: 0.3951 - accuracy: 0.8392 - val_loss: 0.8460 - val_accuracy: 0.7697\n",
            "Epoch 94/99\n",
            "23/23 [==============================] - 1s 52ms/step - loss: 0.4434 - accuracy: 0.8293 - val_loss: 0.5551 - val_accuracy: 0.7472\n",
            "Epoch 95/99\n",
            "23/23 [==============================] - 1s 56ms/step - loss: 0.4220 - accuracy: 0.8195 - val_loss: 0.5015 - val_accuracy: 0.7303\n",
            "Epoch 96/99\n",
            "23/23 [==============================] - 1s 46ms/step - loss: 0.4025 - accuracy: 0.8181 - val_loss: 0.5205 - val_accuracy: 0.7528\n",
            "Epoch 97/99\n",
            "23/23 [==============================] - 1s 55ms/step - loss: 0.3884 - accuracy: 0.8279 - val_loss: 0.5280 - val_accuracy: 0.7584\n",
            "Epoch 98/99\n",
            "23/23 [==============================] - 1s 54ms/step - loss: 0.3900 - accuracy: 0.8392 - val_loss: 0.5019 - val_accuracy: 0.7360\n",
            "Epoch 99/99\n",
            "23/23 [==============================] - 1s 60ms/step - loss: 0.3885 - accuracy: 0.8350 - val_loss: 0.5057 - val_accuracy: 0.7865\n"
          ],
          "name": "stdout"
        },
        {
          "output_type": "execute_result",
          "data": {
            "text/plain": [
              "<tensorflow.python.keras.callbacks.History at 0x7fdfc41f3940>"
            ]
          },
          "metadata": {
            "tags": []
          },
          "execution_count": 43
        }
      ]
    },
    {
      "cell_type": "code",
      "metadata": {
        "id": "K7XiZGvjRHN-",
        "colab_type": "code",
        "colab": {}
      },
      "source": [
        "# Single Layer Perceptron with Keras\n",
        "model_single = Sequential()\n",
        "\n",
        "model_single.add(Dense(1, input_dim=6, activation='sigmoid'))\n",
        "\n",
        "model_single.compile(optimizer='adam', loss='binary_crossentropy', metrics=['accuracy'])"
      ],
      "execution_count": null,
      "outputs": []
    },
    {
      "cell_type": "code",
      "metadata": {
        "id": "u4uCKfEGSN_w",
        "colab_type": "code",
        "colab": {
          "base_uri": "https://localhost:8080/",
          "height": 191
        },
        "outputId": "a92e86f1-6b81-455b-e0b2-1cecc87175b3"
      },
      "source": [
        "model_single.summary()"
      ],
      "execution_count": null,
      "outputs": [
        {
          "output_type": "stream",
          "text": [
            "Model: \"sequential_7\"\n",
            "_________________________________________________________________\n",
            "Layer (type)                 Output Shape              Param #   \n",
            "=================================================================\n",
            "dense_29 (Dense)             (None, 1)                 7         \n",
            "=================================================================\n",
            "Total params: 7\n",
            "Trainable params: 7\n",
            "Non-trainable params: 0\n",
            "_________________________________________________________________\n"
          ],
          "name": "stdout"
        }
      ]
    },
    {
      "cell_type": "code",
      "metadata": {
        "id": "PnHGieSySU9q",
        "colab_type": "code",
        "colab": {
          "base_uri": "https://localhost:8080/",
          "height": 1000
        },
        "outputId": "1283c7ce-fa79-4c3b-99bf-7593caf23356"
      },
      "source": [
        "model_single.fit(X_train, y_train, epochs=99, validation_data=(X_test, y_test))"
      ],
      "execution_count": null,
      "outputs": [
        {
          "output_type": "stream",
          "text": [
            "Epoch 1/99\n",
            "23/23 [==============================] - 0s 6ms/step - loss: 16.7631 - accuracy: 0.6121 - val_loss: 11.7615 - val_accuracy: 0.6180\n",
            "Epoch 2/99\n",
            "23/23 [==============================] - 0s 3ms/step - loss: 16.0688 - accuracy: 0.6121 - val_loss: 11.2046 - val_accuracy: 0.6180\n",
            "Epoch 3/99\n",
            "23/23 [==============================] - 0s 3ms/step - loss: 15.3759 - accuracy: 0.6107 - val_loss: 10.6393 - val_accuracy: 0.6124\n",
            "Epoch 4/99\n",
            "23/23 [==============================] - 0s 3ms/step - loss: 14.6894 - accuracy: 0.6093 - val_loss: 10.1123 - val_accuracy: 0.6067\n",
            "Epoch 5/99\n",
            "23/23 [==============================] - 0s 3ms/step - loss: 14.0201 - accuracy: 0.6051 - val_loss: 9.5732 - val_accuracy: 0.6011\n",
            "Epoch 6/99\n",
            "23/23 [==============================] - 0s 3ms/step - loss: 13.3655 - accuracy: 0.6008 - val_loss: 9.0556 - val_accuracy: 0.6011\n",
            "Epoch 7/99\n",
            "23/23 [==============================] - 0s 4ms/step - loss: 12.7058 - accuracy: 0.5994 - val_loss: 8.5996 - val_accuracy: 0.5955\n",
            "Epoch 8/99\n",
            "23/23 [==============================] - 0s 3ms/step - loss: 12.1171 - accuracy: 0.5910 - val_loss: 8.1293 - val_accuracy: 0.5899\n",
            "Epoch 9/99\n",
            "23/23 [==============================] - 0s 3ms/step - loss: 11.5795 - accuracy: 0.5557 - val_loss: 7.7461 - val_accuracy: 0.5393\n",
            "Epoch 10/99\n",
            "23/23 [==============================] - 0s 3ms/step - loss: 11.1078 - accuracy: 0.5035 - val_loss: 7.4136 - val_accuracy: 0.5056\n",
            "Epoch 11/99\n",
            "23/23 [==============================] - 0s 3ms/step - loss: 10.6836 - accuracy: 0.4542 - val_loss: 7.1456 - val_accuracy: 0.4551\n",
            "Epoch 12/99\n",
            "23/23 [==============================] - 0s 3ms/step - loss: 10.3270 - accuracy: 0.4133 - val_loss: 6.8818 - val_accuracy: 0.4101\n",
            "Epoch 13/99\n",
            "23/23 [==============================] - 0s 3ms/step - loss: 9.9613 - accuracy: 0.4048 - val_loss: 6.6379 - val_accuracy: 0.3876\n",
            "Epoch 14/99\n",
            "23/23 [==============================] - 0s 3ms/step - loss: 9.5780 - accuracy: 0.3949 - val_loss: 6.3894 - val_accuracy: 0.3820\n",
            "Epoch 15/99\n",
            "23/23 [==============================] - 0s 3ms/step - loss: 9.2410 - accuracy: 0.3836 - val_loss: 6.1685 - val_accuracy: 0.3708\n",
            "Epoch 16/99\n",
            "23/23 [==============================] - 0s 3ms/step - loss: 8.9139 - accuracy: 0.3780 - val_loss: 5.9578 - val_accuracy: 0.3652\n",
            "Epoch 17/99\n",
            "23/23 [==============================] - 0s 3ms/step - loss: 8.5852 - accuracy: 0.3724 - val_loss: 5.7413 - val_accuracy: 0.3764\n",
            "Epoch 18/99\n",
            "23/23 [==============================] - 0s 3ms/step - loss: 8.2410 - accuracy: 0.3709 - val_loss: 5.4985 - val_accuracy: 0.3876\n",
            "Epoch 19/99\n",
            "23/23 [==============================] - 0s 3ms/step - loss: 7.9170 - accuracy: 0.3667 - val_loss: 5.2990 - val_accuracy: 0.3764\n",
            "Epoch 20/99\n",
            "23/23 [==============================] - 0s 3ms/step - loss: 7.6177 - accuracy: 0.3724 - val_loss: 5.0927 - val_accuracy: 0.3764\n",
            "Epoch 21/99\n",
            "23/23 [==============================] - 0s 3ms/step - loss: 7.3035 - accuracy: 0.3738 - val_loss: 4.8867 - val_accuracy: 0.3764\n",
            "Epoch 22/99\n",
            "23/23 [==============================] - 0s 3ms/step - loss: 6.9888 - accuracy: 0.3752 - val_loss: 4.6801 - val_accuracy: 0.3764\n",
            "Epoch 23/99\n",
            "23/23 [==============================] - 0s 3ms/step - loss: 6.6968 - accuracy: 0.3752 - val_loss: 4.4801 - val_accuracy: 0.3708\n",
            "Epoch 24/99\n",
            "23/23 [==============================] - 0s 3ms/step - loss: 6.3979 - accuracy: 0.3709 - val_loss: 4.2799 - val_accuracy: 0.3539\n",
            "Epoch 25/99\n",
            "23/23 [==============================] - 0s 3ms/step - loss: 6.1092 - accuracy: 0.3695 - val_loss: 4.0881 - val_accuracy: 0.3652\n",
            "Epoch 26/99\n",
            "23/23 [==============================] - 0s 3ms/step - loss: 5.8288 - accuracy: 0.3695 - val_loss: 3.8882 - val_accuracy: 0.3652\n",
            "Epoch 27/99\n",
            "23/23 [==============================] - 0s 3ms/step - loss: 5.5421 - accuracy: 0.3667 - val_loss: 3.7031 - val_accuracy: 0.3652\n",
            "Epoch 28/99\n",
            "23/23 [==============================] - 0s 3ms/step - loss: 5.2693 - accuracy: 0.3597 - val_loss: 3.5176 - val_accuracy: 0.3652\n",
            "Epoch 29/99\n",
            "23/23 [==============================] - 0s 3ms/step - loss: 5.0056 - accuracy: 0.3611 - val_loss: 3.3330 - val_accuracy: 0.3708\n",
            "Epoch 30/99\n",
            "23/23 [==============================] - 0s 3ms/step - loss: 4.7372 - accuracy: 0.3597 - val_loss: 3.1545 - val_accuracy: 0.3708\n",
            "Epoch 31/99\n",
            "23/23 [==============================] - 0s 3ms/step - loss: 4.4564 - accuracy: 0.3653 - val_loss: 2.9659 - val_accuracy: 0.3708\n",
            "Epoch 32/99\n",
            "23/23 [==============================] - 0s 3ms/step - loss: 4.1904 - accuracy: 0.3611 - val_loss: 2.8007 - val_accuracy: 0.3596\n",
            "Epoch 33/99\n",
            "23/23 [==============================] - 0s 3ms/step - loss: 3.9464 - accuracy: 0.3583 - val_loss: 2.6324 - val_accuracy: 0.3596\n",
            "Epoch 34/99\n",
            "23/23 [==============================] - 0s 3ms/step - loss: 3.7053 - accuracy: 0.3512 - val_loss: 2.4756 - val_accuracy: 0.3652\n",
            "Epoch 35/99\n",
            "23/23 [==============================] - 0s 4ms/step - loss: 3.4673 - accuracy: 0.3427 - val_loss: 2.3165 - val_accuracy: 0.3652\n",
            "Epoch 36/99\n",
            "23/23 [==============================] - 0s 3ms/step - loss: 3.2367 - accuracy: 0.3357 - val_loss: 2.1738 - val_accuracy: 0.3708\n",
            "Epoch 37/99\n",
            "23/23 [==============================] - 0s 3ms/step - loss: 3.0244 - accuracy: 0.3413 - val_loss: 2.0191 - val_accuracy: 0.3820\n",
            "Epoch 38/99\n",
            "23/23 [==============================] - 0s 3ms/step - loss: 2.7950 - accuracy: 0.3456 - val_loss: 1.8793 - val_accuracy: 0.3933\n",
            "Epoch 39/99\n",
            "23/23 [==============================] - 0s 3ms/step - loss: 2.5739 - accuracy: 0.3498 - val_loss: 1.7367 - val_accuracy: 0.4045\n",
            "Epoch 40/99\n",
            "23/23 [==============================] - 0s 3ms/step - loss: 2.3643 - accuracy: 0.3540 - val_loss: 1.5991 - val_accuracy: 0.4045\n",
            "Epoch 41/99\n",
            "23/23 [==============================] - 0s 3ms/step - loss: 2.1573 - accuracy: 0.3568 - val_loss: 1.4683 - val_accuracy: 0.4213\n",
            "Epoch 42/99\n",
            "23/23 [==============================] - 0s 3ms/step - loss: 1.9398 - accuracy: 0.3709 - val_loss: 1.3415 - val_accuracy: 0.4270\n",
            "Epoch 43/99\n",
            "23/23 [==============================] - 0s 3ms/step - loss: 1.7192 - accuracy: 0.3963 - val_loss: 1.1948 - val_accuracy: 0.4213\n",
            "Epoch 44/99\n",
            "23/23 [==============================] - 0s 3ms/step - loss: 1.5144 - accuracy: 0.5190 - val_loss: 1.0834 - val_accuracy: 0.6180\n",
            "Epoch 45/99\n",
            "23/23 [==============================] - 0s 4ms/step - loss: 1.3430 - accuracy: 0.5769 - val_loss: 0.9830 - val_accuracy: 0.6461\n",
            "Epoch 46/99\n",
            "23/23 [==============================] - 0s 3ms/step - loss: 1.1815 - accuracy: 0.6065 - val_loss: 0.9008 - val_accuracy: 0.6517\n",
            "Epoch 47/99\n",
            "23/23 [==============================] - 0s 3ms/step - loss: 1.0582 - accuracy: 0.6150 - val_loss: 0.8467 - val_accuracy: 0.6573\n",
            "Epoch 48/99\n",
            "23/23 [==============================] - 0s 3ms/step - loss: 0.9799 - accuracy: 0.6291 - val_loss: 0.8112 - val_accuracy: 0.6798\n",
            "Epoch 49/99\n",
            "23/23 [==============================] - 0s 3ms/step - loss: 0.9291 - accuracy: 0.6446 - val_loss: 0.7897 - val_accuracy: 0.6742\n",
            "Epoch 50/99\n",
            "23/23 [==============================] - 0s 3ms/step - loss: 0.8968 - accuracy: 0.6544 - val_loss: 0.7740 - val_accuracy: 0.6685\n",
            "Epoch 51/99\n",
            "23/23 [==============================] - 0s 3ms/step - loss: 0.8758 - accuracy: 0.6587 - val_loss: 0.7607 - val_accuracy: 0.7135\n",
            "Epoch 52/99\n",
            "23/23 [==============================] - 0s 3ms/step - loss: 0.8590 - accuracy: 0.6615 - val_loss: 0.7509 - val_accuracy: 0.7079\n",
            "Epoch 53/99\n",
            "23/23 [==============================] - 0s 3ms/step - loss: 0.8424 - accuracy: 0.6629 - val_loss: 0.7403 - val_accuracy: 0.7022\n",
            "Epoch 54/99\n",
            "23/23 [==============================] - 0s 3ms/step - loss: 0.8294 - accuracy: 0.6587 - val_loss: 0.7314 - val_accuracy: 0.7022\n",
            "Epoch 55/99\n",
            "23/23 [==============================] - 0s 3ms/step - loss: 0.8144 - accuracy: 0.6671 - val_loss: 0.7216 - val_accuracy: 0.7079\n",
            "Epoch 56/99\n",
            "23/23 [==============================] - 0s 3ms/step - loss: 0.7999 - accuracy: 0.6728 - val_loss: 0.7120 - val_accuracy: 0.7022\n",
            "Epoch 57/99\n",
            "23/23 [==============================] - 0s 3ms/step - loss: 0.7857 - accuracy: 0.6756 - val_loss: 0.7036 - val_accuracy: 0.7079\n",
            "Epoch 58/99\n",
            "23/23 [==============================] - 0s 3ms/step - loss: 0.7731 - accuracy: 0.6742 - val_loss: 0.6952 - val_accuracy: 0.7079\n",
            "Epoch 59/99\n",
            "23/23 [==============================] - 0s 3ms/step - loss: 0.7599 - accuracy: 0.6812 - val_loss: 0.6867 - val_accuracy: 0.7079\n",
            "Epoch 60/99\n",
            "23/23 [==============================] - 0s 3ms/step - loss: 0.7474 - accuracy: 0.6855 - val_loss: 0.6791 - val_accuracy: 0.7079\n",
            "Epoch 61/99\n",
            "23/23 [==============================] - 0s 3ms/step - loss: 0.7358 - accuracy: 0.6883 - val_loss: 0.6705 - val_accuracy: 0.7079\n",
            "Epoch 62/99\n",
            "23/23 [==============================] - 0s 3ms/step - loss: 0.7235 - accuracy: 0.6939 - val_loss: 0.6640 - val_accuracy: 0.7079\n",
            "Epoch 63/99\n",
            "23/23 [==============================] - 0s 4ms/step - loss: 0.7121 - accuracy: 0.6996 - val_loss: 0.6569 - val_accuracy: 0.7135\n",
            "Epoch 64/99\n",
            "23/23 [==============================] - 0s 3ms/step - loss: 0.7014 - accuracy: 0.6953 - val_loss: 0.6497 - val_accuracy: 0.7135\n",
            "Epoch 65/99\n",
            "23/23 [==============================] - 0s 3ms/step - loss: 0.6911 - accuracy: 0.6939 - val_loss: 0.6433 - val_accuracy: 0.7079\n",
            "Epoch 66/99\n",
            "23/23 [==============================] - 0s 3ms/step - loss: 0.6802 - accuracy: 0.7066 - val_loss: 0.6376 - val_accuracy: 0.7022\n",
            "Epoch 67/99\n",
            "23/23 [==============================] - 0s 3ms/step - loss: 0.6701 - accuracy: 0.7123 - val_loss: 0.6315 - val_accuracy: 0.7191\n",
            "Epoch 68/99\n",
            "23/23 [==============================] - 0s 3ms/step - loss: 0.6614 - accuracy: 0.7038 - val_loss: 0.6265 - val_accuracy: 0.7191\n",
            "Epoch 69/99\n",
            "23/23 [==============================] - 0s 3ms/step - loss: 0.6524 - accuracy: 0.7137 - val_loss: 0.6221 - val_accuracy: 0.7247\n",
            "Epoch 70/99\n",
            "23/23 [==============================] - 0s 3ms/step - loss: 0.6436 - accuracy: 0.7165 - val_loss: 0.6174 - val_accuracy: 0.7135\n",
            "Epoch 71/99\n",
            "23/23 [==============================] - 0s 3ms/step - loss: 0.6351 - accuracy: 0.7123 - val_loss: 0.6128 - val_accuracy: 0.6910\n",
            "Epoch 72/99\n",
            "23/23 [==============================] - 0s 3ms/step - loss: 0.6277 - accuracy: 0.7123 - val_loss: 0.6086 - val_accuracy: 0.6966\n",
            "Epoch 73/99\n",
            "23/23 [==============================] - 0s 4ms/step - loss: 0.6192 - accuracy: 0.7080 - val_loss: 0.6044 - val_accuracy: 0.6854\n",
            "Epoch 74/99\n",
            "23/23 [==============================] - 0s 3ms/step - loss: 0.6125 - accuracy: 0.7151 - val_loss: 0.6007 - val_accuracy: 0.6854\n",
            "Epoch 75/99\n",
            "23/23 [==============================] - 0s 3ms/step - loss: 0.6059 - accuracy: 0.7151 - val_loss: 0.5971 - val_accuracy: 0.6910\n",
            "Epoch 76/99\n",
            "23/23 [==============================] - 0s 3ms/step - loss: 0.5981 - accuracy: 0.7151 - val_loss: 0.5936 - val_accuracy: 0.6854\n",
            "Epoch 77/99\n",
            "23/23 [==============================] - 0s 3ms/step - loss: 0.5916 - accuracy: 0.7151 - val_loss: 0.5908 - val_accuracy: 0.6854\n",
            "Epoch 78/99\n",
            "23/23 [==============================] - 0s 3ms/step - loss: 0.5871 - accuracy: 0.7165 - val_loss: 0.5880 - val_accuracy: 0.6854\n",
            "Epoch 79/99\n",
            "23/23 [==============================] - 0s 3ms/step - loss: 0.5834 - accuracy: 0.7179 - val_loss: 0.5862 - val_accuracy: 0.6966\n",
            "Epoch 80/99\n",
            "23/23 [==============================] - 0s 3ms/step - loss: 0.5758 - accuracy: 0.7137 - val_loss: 0.5833 - val_accuracy: 0.6910\n",
            "Epoch 81/99\n",
            "23/23 [==============================] - 0s 3ms/step - loss: 0.5707 - accuracy: 0.7151 - val_loss: 0.5812 - val_accuracy: 0.6910\n",
            "Epoch 82/99\n",
            "23/23 [==============================] - 0s 4ms/step - loss: 0.5666 - accuracy: 0.7151 - val_loss: 0.5801 - val_accuracy: 0.6854\n",
            "Epoch 83/99\n",
            "23/23 [==============================] - 0s 3ms/step - loss: 0.5619 - accuracy: 0.7179 - val_loss: 0.5779 - val_accuracy: 0.6854\n",
            "Epoch 84/99\n",
            "23/23 [==============================] - 0s 3ms/step - loss: 0.5578 - accuracy: 0.7250 - val_loss: 0.5760 - val_accuracy: 0.6854\n",
            "Epoch 85/99\n",
            "23/23 [==============================] - 0s 3ms/step - loss: 0.5540 - accuracy: 0.7278 - val_loss: 0.5744 - val_accuracy: 0.6910\n",
            "Epoch 86/99\n",
            "23/23 [==============================] - 0s 3ms/step - loss: 0.5510 - accuracy: 0.7391 - val_loss: 0.5733 - val_accuracy: 0.6910\n",
            "Epoch 87/99\n",
            "23/23 [==============================] - 0s 3ms/step - loss: 0.5471 - accuracy: 0.7391 - val_loss: 0.5720 - val_accuracy: 0.6910\n",
            "Epoch 88/99\n",
            "23/23 [==============================] - 0s 3ms/step - loss: 0.5446 - accuracy: 0.7377 - val_loss: 0.5714 - val_accuracy: 0.6854\n",
            "Epoch 89/99\n",
            "23/23 [==============================] - 0s 3ms/step - loss: 0.5420 - accuracy: 0.7391 - val_loss: 0.5706 - val_accuracy: 0.7022\n",
            "Epoch 90/99\n",
            "23/23 [==============================] - 0s 3ms/step - loss: 0.5390 - accuracy: 0.7419 - val_loss: 0.5690 - val_accuracy: 0.6910\n",
            "Epoch 91/99\n",
            "23/23 [==============================] - 0s 4ms/step - loss: 0.5362 - accuracy: 0.7447 - val_loss: 0.5686 - val_accuracy: 0.7079\n",
            "Epoch 92/99\n",
            "23/23 [==============================] - 0s 3ms/step - loss: 0.5346 - accuracy: 0.7546 - val_loss: 0.5679 - val_accuracy: 0.6910\n",
            "Epoch 93/99\n",
            "23/23 [==============================] - 0s 3ms/step - loss: 0.5315 - accuracy: 0.7433 - val_loss: 0.5678 - val_accuracy: 0.7135\n",
            "Epoch 94/99\n",
            "23/23 [==============================] - 0s 3ms/step - loss: 0.5300 - accuracy: 0.7461 - val_loss: 0.5674 - val_accuracy: 0.7135\n",
            "Epoch 95/99\n",
            "23/23 [==============================] - 0s 4ms/step - loss: 0.5273 - accuracy: 0.7461 - val_loss: 0.5662 - val_accuracy: 0.7135\n",
            "Epoch 96/99\n",
            "23/23 [==============================] - 0s 3ms/step - loss: 0.5274 - accuracy: 0.7687 - val_loss: 0.5655 - val_accuracy: 0.7135\n",
            "Epoch 97/99\n",
            "23/23 [==============================] - 0s 3ms/step - loss: 0.5253 - accuracy: 0.7673 - val_loss: 0.5652 - val_accuracy: 0.7135\n",
            "Epoch 98/99\n",
            "23/23 [==============================] - 0s 3ms/step - loss: 0.5224 - accuracy: 0.7475 - val_loss: 0.5661 - val_accuracy: 0.7191\n",
            "Epoch 99/99\n",
            "23/23 [==============================] - 0s 3ms/step - loss: 0.5214 - accuracy: 0.7532 - val_loss: 0.5647 - val_accuracy: 0.7079\n"
          ],
          "name": "stdout"
        },
        {
          "output_type": "execute_result",
          "data": {
            "text/plain": [
              "<tensorflow.python.keras.callbacks.History at 0x7fdfb8c8bf28>"
            ]
          },
          "metadata": {
            "tags": []
          },
          "execution_count": 48
        }
      ]
    },
    {
      "cell_type": "markdown",
      "metadata": {
        "id": "xfZ-6Rh8BGgb",
        "colab_type": "text"
      },
      "source": [
        "*In a short paragraph, answer the following:*\n",
        "\n",
        "Why does the multilayer perceptron perform better than the simple perceptron? What limits the simple perceptron? What aspects of the multilayer perceptron allow it to overcome those limitations?\n",
        "\n",
        "```\n",
        "Your Answer Here\n",
        "```"
      ]
    },
    {
      "cell_type": "markdown",
      "metadata": {
        "id": "mhki00NLpxtf",
        "colab_type": "text"
      },
      "source": [
        "# Keras"
      ]
    },
    {
      "cell_type": "markdown",
      "metadata": {
        "colab_type": "text",
        "id": "7njBYhdeLZuk"
      },
      "source": [
        "## Definitions"
      ]
    },
    {
      "cell_type": "markdown",
      "metadata": {
        "colab_type": "text",
        "id": "BwrDo98ALZu1"
      },
      "source": [
        "Define the following terms in your own words, do not simply copy and paste a definition found elsewhere but reword it to be understandable and memorable to you. *Double click the markdown to add your definitions.*\n",
        "\n",
        "**Earl Stopping:** `Your Answer Here`\n",
        "\n",
        "**Weight Decay:** `Your Answer Here`\n",
        "\n",
        "**Dropout:** `Your Answer Here`\n",
        "\n",
        "<br/>\n",
        "The following are hyperparameters:\n",
        "\n",
        "**Activation Functions:** `Your Answer Here`\n",
        "\n",
        "**Optimizer** `Your Answer Here`\n",
        "\n",
        "**Number of Layers** `Your Answer Here`\n",
        "\n",
        "**Number of Neurons** `Your Answer Here`\n",
        "\n",
        "**Batch Size** `Your Answer Here`\n",
        "\n",
        "**Dropout Regularization** `Your Answer Here`\n",
        "\n",
        "**Learning Rate** `Your Answer Here`\n",
        "\n",
        "**Number of Epochs** `Your Answer Here`"
      ]
    },
    {
      "cell_type": "markdown",
      "metadata": {
        "colab_type": "text",
        "id": "QZ_azU3fNlu5"
      },
      "source": [
        "## Questions of Understanding\n"
      ]
    },
    {
      "cell_type": "markdown",
      "metadata": {
        "colab_type": "text",
        "id": "KFhdxE3ONlvN"
      },
      "source": [
        "1. Why is it recommended to normalize your input data?\n",
        "```\n",
        "Your Answer Here\n",
        "```\n",
        "\n",
        "2. How do you go about deciding on your neural network's architecture?\n",
        "```\n",
        "Your Answer Here\n",
        "```\n",
        "\n",
        "3. Why is regularization important with neural networks?\n",
        "```\n",
        "Your Answer Here\n",
        "```\n",
        "\n",
        "4. What does `validation.data` do?\n",
        "```\n",
        "Your Answer Here\n",
        "```\n",
        "\n",
        "5. Why is hyperparameter tuning so important with neural networks?\n",
        "```\n",
        "Your Answer Here\n",
        "```"
      ]
    },
    {
      "cell_type": "markdown",
      "metadata": {
        "id": "D2q0E4XJPmnJ",
        "colab_type": "text"
      },
      "source": [
        "## Modeling"
      ]
    },
    {
      "cell_type": "markdown",
      "metadata": {
        "id": "mMLs3asmPpkb",
        "colab_type": "text"
      },
      "source": [
        "Using the same dataset as above, use Keras to build a model and find its accuracy."
      ]
    },
    {
      "cell_type": "code",
      "metadata": {
        "id": "eB_Yz9vMXMYl",
        "colab_type": "code",
        "colab": {}
      },
      "source": [
        "from tensorflow.keras.optimizers import Adam"
      ],
      "execution_count": null,
      "outputs": []
    },
    {
      "cell_type": "code",
      "metadata": {
        "id": "J93kXczUp6z2",
        "colab_type": "code",
        "colab": {}
      },
      "source": [
        "def create_model(lr):\n",
        "  adam = Adam(learning_rate=lr)\n",
        "  model = Sequential()\n",
        "  model.add(Dense(32, input_dim=6, activation = \"relu\"))\n",
        "  model.add(Dense(1, activation = \"sigmoid\")) # binary output\n",
        "\n",
        "  model.compile(optimizer = \"adam\", loss = \"binary_crossentropy\",  metrics = [\"accuracy\"])\n",
        "\n",
        "  return model"
      ],
      "execution_count": null,
      "outputs": []
    },
    {
      "cell_type": "code",
      "metadata": {
        "id": "nouRizf2VC3l",
        "colab_type": "code",
        "colab": {}
      },
      "source": [
        "from tensorflow.keras.wrappers.scikit_learn import KerasClassifier"
      ],
      "execution_count": null,
      "outputs": []
    },
    {
      "cell_type": "code",
      "metadata": {
        "id": "XKQ-seQsVXmn",
        "colab_type": "code",
        "colab": {}
      },
      "source": [
        "hyper_model = KerasClassifier(build_fn=create_model, verbose=0)"
      ],
      "execution_count": null,
      "outputs": []
    },
    {
      "cell_type": "code",
      "metadata": {
        "id": "eZVdAMZWV6NV",
        "colab_type": "code",
        "colab": {}
      },
      "source": [
        "params = {'lr': [.001, .01, .1],\n",
        "              'batch_size': [10, 20, 40],\n",
        "              'epochs': [25]}"
      ],
      "execution_count": null,
      "outputs": []
    },
    {
      "cell_type": "code",
      "metadata": {
        "id": "lG8nCr6vW4hO",
        "colab_type": "code",
        "colab": {}
      },
      "source": [
        "from sklearn.model_selection import RandomizedSearchCV"
      ],
      "execution_count": null,
      "outputs": []
    },
    {
      "cell_type": "code",
      "metadata": {
        "id": "-DCiafYnX8oX",
        "colab_type": "code",
        "colab": {}
      },
      "source": [
        "rand = RandomizedSearchCV(estimator=hyper_model, param_distributions=params, n_jobs=1)"
      ],
      "execution_count": null,
      "outputs": []
    },
    {
      "cell_type": "code",
      "metadata": {
        "id": "D8p8JIFUYq3-",
        "colab_type": "code",
        "colab": {
          "base_uri": "https://localhost:8080/",
          "height": 72
        },
        "outputId": "b9bfa3f9-29f7-4b22-a26c-2638418ba2d2"
      },
      "source": [
        "rand_result = rand.fit(X_train, y_train)"
      ],
      "execution_count": null,
      "outputs": [
        {
          "output_type": "stream",
          "text": [
            "/usr/local/lib/python3.6/dist-packages/sklearn/model_selection/_search.py:281: UserWarning: The total space of parameters 9 is smaller than n_iter=10. Running 9 iterations. For exhaustive searches, use GridSearchCV.\n",
            "  % (grid_size, self.n_iter, grid_size), UserWarning)\n"
          ],
          "name": "stderr"
        }
      ]
    },
    {
      "cell_type": "code",
      "metadata": {
        "id": "4LhBPNMiZrDO",
        "colab_type": "code",
        "colab": {
          "base_uri": "https://localhost:8080/",
          "height": 191
        },
        "outputId": "20eb69b2-d19e-4a33-db24-9694e0ee5218"
      },
      "source": [
        "# Report Results\n",
        "print(f\"Best: {rand_result.best_score_} using {rand_result.best_params_}\")\n",
        "means = rand_result.cv_results_['mean_test_score']\n",
        "stds = rand_result.cv_results_['std_test_score']\n",
        "params = rand_result.cv_results_['params']\n",
        "for mean, stdev, param in zip(means, stds, params):\n",
        "    print(f\"Means: {mean}, Stdev: {stdev} with: {param}\")"
      ],
      "execution_count": null,
      "outputs": [
        {
          "output_type": "stream",
          "text": [
            "Best: 0.8025072455406189 using {'lr': 0.1, 'epochs': 25, 'batch_size': 10}\n",
            "Means: 0.7700329661369324, Stdev: 0.04462829128445246 with: {'lr': 0.001, 'epochs': 25, 'batch_size': 10}\n",
            "Means: 0.7926081418991089, Stdev: 0.03726802041768143 with: {'lr': 0.01, 'epochs': 25, 'batch_size': 10}\n",
            "Means: 0.8025072455406189, Stdev: 0.03411792059472736 with: {'lr': 0.1, 'epochs': 25, 'batch_size': 10}\n",
            "Means: 0.7601738214492798, Stdev: 0.036839434555501295 with: {'lr': 0.001, 'epochs': 25, 'batch_size': 20}\n",
            "Means: 0.7742782950401306, Stdev: 0.03283218900463962 with: {'lr': 0.01, 'epochs': 25, 'batch_size': 20}\n",
            "Means: 0.7306562900543213, Stdev: 0.06380218423547818 with: {'lr': 0.1, 'epochs': 25, 'batch_size': 20}\n",
            "Means: 0.7179003119468689, Stdev: 0.034014767845573946 with: {'lr': 0.001, 'epochs': 25, 'batch_size': 40}\n",
            "Means: 0.7333633065223694, Stdev: 0.029332897865262633 with: {'lr': 0.01, 'epochs': 25, 'batch_size': 40}\n",
            "Means: 0.7249325633049011, Stdev: 0.018325619126544995 with: {'lr': 0.1, 'epochs': 25, 'batch_size': 40}\n"
          ],
          "name": "stdout"
        }
      ]
    },
    {
      "cell_type": "code",
      "metadata": {
        "id": "M2BpgpiJa6jo",
        "colab_type": "code",
        "colab": {}
      },
      "source": [
        "from sklearn.metrics import accuracy_score"
      ],
      "execution_count": null,
      "outputs": []
    },
    {
      "cell_type": "code",
      "metadata": {
        "id": "bx-oo7q8aVH9",
        "colab_type": "code",
        "colab": {}
      },
      "source": [
        "final_results = rand_result.best_estimator_.predict(X_test)"
      ],
      "execution_count": null,
      "outputs": []
    },
    {
      "cell_type": "code",
      "metadata": {
        "id": "pwsB4IT2bFWk",
        "colab_type": "code",
        "colab": {
          "base_uri": "https://localhost:8080/",
          "height": 35
        },
        "outputId": "03be7aae-d02e-4c2d-c9cc-e8e27af1dad2"
      },
      "source": [
        "accuracy_score(final_results, y_test)"
      ],
      "execution_count": null,
      "outputs": [
        {
          "output_type": "execute_result",
          "data": {
            "text/plain": [
              "0.7303370786516854"
            ]
          },
          "metadata": {
            "tags": []
          },
          "execution_count": 84
        }
      ]
    },
    {
      "cell_type": "markdown",
      "metadata": {
        "id": "k7lhqCTsQdTF",
        "colab_type": "text"
      },
      "source": [
        "Build upon the model you created in the cell above by adding hyperparameter tuning."
      ]
    },
    {
      "cell_type": "code",
      "metadata": {
        "id": "pmZ8WvzHQn3L",
        "colab_type": "code",
        "colab": {}
      },
      "source": [
        ""
      ],
      "execution_count": null,
      "outputs": []
    },
    {
      "cell_type": "markdown",
      "metadata": {
        "id": "whVu711pQoN3",
        "colab_type": "text"
      },
      "source": [
        "Find the accuracy of the tuned model."
      ]
    },
    {
      "cell_type": "code",
      "metadata": {
        "id": "R_1Aq4LxQwpp",
        "colab_type": "code",
        "colab": {}
      },
      "source": [
        ""
      ],
      "execution_count": null,
      "outputs": []
    },
    {
      "cell_type": "markdown",
      "metadata": {
        "id": "6GQaJEGvQw4W",
        "colab_type": "text"
      },
      "source": [
        "In a short paragraph, explain how the hyperparameters impacted the accuracy of your model.\n",
        "\n",
        "```\n",
        "You Answer Here\n",
        "```"
      ]
    }
  ]
}